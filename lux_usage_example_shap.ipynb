{
 "cells": [
  {
   "cell_type": "code",
   "execution_count": 1,
   "metadata": {},
   "outputs": [
    {
     "name": "stderr",
     "output_type": "stream",
     "text": [
      "/home/jovyan/.conda/envs/luxenv/lib/python3.8/site-packages/shap/utils/_clustering.py:35: NumbaDeprecationWarning: The 'nopython' keyword argument was not supplied to the 'numba.jit' decorator. The implicit default value for this argument is currently False, but it will be changed to True in Numba 0.59.0. See https://numba.readthedocs.io/en/stable/reference/deprecation.html#deprecation-of-object-mode-fall-back-behaviour-when-using-jit for details.\n",
      "  def _pt_shuffle_rec(i, indexes, index_mask, partition_tree, M, pos):\n",
      "/home/jovyan/.conda/envs/luxenv/lib/python3.8/site-packages/shap/utils/_clustering.py:54: NumbaDeprecationWarning: The 'nopython' keyword argument was not supplied to the 'numba.jit' decorator. The implicit default value for this argument is currently False, but it will be changed to True in Numba 0.59.0. See https://numba.readthedocs.io/en/stable/reference/deprecation.html#deprecation-of-object-mode-fall-back-behaviour-when-using-jit for details.\n",
      "  def delta_minimization_order(all_masks, max_swap_size=100, num_passes=2):\n",
      "/home/jovyan/.conda/envs/luxenv/lib/python3.8/site-packages/shap/utils/_clustering.py:63: NumbaDeprecationWarning: The 'nopython' keyword argument was not supplied to the 'numba.jit' decorator. The implicit default value for this argument is currently False, but it will be changed to True in Numba 0.59.0. See https://numba.readthedocs.io/en/stable/reference/deprecation.html#deprecation-of-object-mode-fall-back-behaviour-when-using-jit for details.\n",
      "  def _reverse_window(order, start, length):\n",
      "/home/jovyan/.conda/envs/luxenv/lib/python3.8/site-packages/shap/utils/_clustering.py:69: NumbaDeprecationWarning: The 'nopython' keyword argument was not supplied to the 'numba.jit' decorator. The implicit default value for this argument is currently False, but it will be changed to True in Numba 0.59.0. See https://numba.readthedocs.io/en/stable/reference/deprecation.html#deprecation-of-object-mode-fall-back-behaviour-when-using-jit for details.\n",
      "  def _reverse_window_score_gain(masks, order, start, length):\n",
      "/home/jovyan/.conda/envs/luxenv/lib/python3.8/site-packages/shap/utils/_clustering.py:77: NumbaDeprecationWarning: The 'nopython' keyword argument was not supplied to the 'numba.jit' decorator. The implicit default value for this argument is currently False, but it will be changed to True in Numba 0.59.0. See https://numba.readthedocs.io/en/stable/reference/deprecation.html#deprecation-of-object-mode-fall-back-behaviour-when-using-jit for details.\n",
      "  def _mask_delta_score(m1, m2):\n",
      "/home/jovyan/.conda/envs/luxenv/lib/python3.8/site-packages/shap/links.py:5: NumbaDeprecationWarning: The 'nopython' keyword argument was not supplied to the 'numba.jit' decorator. The implicit default value for this argument is currently False, but it will be changed to True in Numba 0.59.0. See https://numba.readthedocs.io/en/stable/reference/deprecation.html#deprecation-of-object-mode-fall-back-behaviour-when-using-jit for details.\n",
      "  def identity(x):\n",
      "/home/jovyan/.conda/envs/luxenv/lib/python3.8/site-packages/shap/links.py:10: NumbaDeprecationWarning: The 'nopython' keyword argument was not supplied to the 'numba.jit' decorator. The implicit default value for this argument is currently False, but it will be changed to True in Numba 0.59.0. See https://numba.readthedocs.io/en/stable/reference/deprecation.html#deprecation-of-object-mode-fall-back-behaviour-when-using-jit for details.\n",
      "  def _identity_inverse(x):\n",
      "/home/jovyan/.conda/envs/luxenv/lib/python3.8/site-packages/shap/links.py:15: NumbaDeprecationWarning: The 'nopython' keyword argument was not supplied to the 'numba.jit' decorator. The implicit default value for this argument is currently False, but it will be changed to True in Numba 0.59.0. See https://numba.readthedocs.io/en/stable/reference/deprecation.html#deprecation-of-object-mode-fall-back-behaviour-when-using-jit for details.\n",
      "  def logit(x):\n",
      "/home/jovyan/.conda/envs/luxenv/lib/python3.8/site-packages/shap/links.py:20: NumbaDeprecationWarning: The 'nopython' keyword argument was not supplied to the 'numba.jit' decorator. The implicit default value for this argument is currently False, but it will be changed to True in Numba 0.59.0. See https://numba.readthedocs.io/en/stable/reference/deprecation.html#deprecation-of-object-mode-fall-back-behaviour-when-using-jit for details.\n",
      "  def _logit_inverse(x):\n",
      "/home/jovyan/.conda/envs/luxenv/lib/python3.8/site-packages/shap/utils/_masked_model.py:363: NumbaDeprecationWarning: The 'nopython' keyword argument was not supplied to the 'numba.jit' decorator. The implicit default value for this argument is currently False, but it will be changed to True in Numba 0.59.0. See https://numba.readthedocs.io/en/stable/reference/deprecation.html#deprecation-of-object-mode-fall-back-behaviour-when-using-jit for details.\n",
      "  def _build_fixed_single_output(averaged_outs, last_outs, outputs, batch_positions, varying_rows, num_varying_rows, link, linearizing_weights):\n",
      "/home/jovyan/.conda/envs/luxenv/lib/python3.8/site-packages/shap/utils/_masked_model.py:385: NumbaDeprecationWarning: The 'nopython' keyword argument was not supplied to the 'numba.jit' decorator. The implicit default value for this argument is currently False, but it will be changed to True in Numba 0.59.0. See https://numba.readthedocs.io/en/stable/reference/deprecation.html#deprecation-of-object-mode-fall-back-behaviour-when-using-jit for details.\n",
      "  def _build_fixed_multi_output(averaged_outs, last_outs, outputs, batch_positions, varying_rows, num_varying_rows, link, linearizing_weights):\n",
      "/home/jovyan/.conda/envs/luxenv/lib/python3.8/site-packages/shap/utils/_masked_model.py:428: NumbaDeprecationWarning: The 'nopython' keyword argument was not supplied to the 'numba.jit' decorator. The implicit default value for this argument is currently False, but it will be changed to True in Numba 0.59.0. See https://numba.readthedocs.io/en/stable/reference/deprecation.html#deprecation-of-object-mode-fall-back-behaviour-when-using-jit for details.\n",
      "  def _init_masks(cluster_matrix, M, indices_row_pos, indptr):\n",
      "/home/jovyan/.conda/envs/luxenv/lib/python3.8/site-packages/shap/utils/_masked_model.py:439: NumbaDeprecationWarning: The 'nopython' keyword argument was not supplied to the 'numba.jit' decorator. The implicit default value for this argument is currently False, but it will be changed to True in Numba 0.59.0. See https://numba.readthedocs.io/en/stable/reference/deprecation.html#deprecation-of-object-mode-fall-back-behaviour-when-using-jit for details.\n",
      "  def _rec_fill_masks(cluster_matrix, indices_row_pos, indptr, indices, M, ind):\n",
      "/home/jovyan/.conda/envs/luxenv/lib/python3.8/site-packages/shap/maskers/_tabular.py:186: NumbaDeprecationWarning: The 'nopython' keyword argument was not supplied to the 'numba.jit' decorator. The implicit default value for this argument is currently False, but it will be changed to True in Numba 0.59.0. See https://numba.readthedocs.io/en/stable/reference/deprecation.html#deprecation-of-object-mode-fall-back-behaviour-when-using-jit for details.\n",
      "  def _single_delta_mask(dind, masked_inputs, last_mask, data, x, noop_code):\n",
      "/home/jovyan/.conda/envs/luxenv/lib/python3.8/site-packages/shap/maskers/_tabular.py:197: NumbaDeprecationWarning: The 'nopython' keyword argument was not supplied to the 'numba.jit' decorator. The implicit default value for this argument is currently False, but it will be changed to True in Numba 0.59.0. See https://numba.readthedocs.io/en/stable/reference/deprecation.html#deprecation-of-object-mode-fall-back-behaviour-when-using-jit for details.\n",
      "  def _delta_masking(masks, x, curr_delta_inds, varying_rows_out,\n",
      "/home/jovyan/.conda/envs/luxenv/lib/python3.8/site-packages/shap/maskers/_image.py:175: NumbaDeprecationWarning: The 'nopython' keyword argument was not supplied to the 'numba.jit' decorator. The implicit default value for this argument is currently False, but it will be changed to True in Numba 0.59.0. See https://numba.readthedocs.io/en/stable/reference/deprecation.html#deprecation-of-object-mode-fall-back-behaviour-when-using-jit for details.\n",
      "  def _jit_build_partition_tree(xmin, xmax, ymin, ymax, zmin, zmax, total_ywidth, total_zwidth, M, clustering, q):\n",
      "/home/jovyan/.conda/envs/luxenv/lib/python3.8/site-packages/tqdm/auto.py:21: TqdmWarning: IProgress not found. Please update jupyter and ipywidgets. See https://ipywidgets.readthedocs.io/en/stable/user_install.html\n",
      "  from .autonotebook import tqdm as notebook_tqdm\n",
      "/home/jovyan/.conda/envs/luxenv/lib/python3.8/site-packages/shap/explainers/_partition.py:676: NumbaDeprecationWarning: The 'nopython' keyword argument was not supplied to the 'numba.jit' decorator. The implicit default value for this argument is currently False, but it will be changed to True in Numba 0.59.0. See https://numba.readthedocs.io/en/stable/reference/deprecation.html#deprecation-of-object-mode-fall-back-behaviour-when-using-jit for details.\n",
      "  def lower_credit(i, value, M, values, clustering):\n",
      "The 'nopython' keyword argument was not supplied to the 'numba.jit' decorator. The implicit default value for this argument is currently False, but it will be changed to True in Numba 0.59.0. See https://numba.readthedocs.io/en/stable/reference/deprecation.html#deprecation-of-object-mode-fall-back-behaviour-when-using-jit for details.\n",
      "The 'nopython' keyword argument was not supplied to the 'numba.jit' decorator. The implicit default value for this argument is currently False, but it will be changed to True in Numba 0.59.0. See https://numba.readthedocs.io/en/stable/reference/deprecation.html#deprecation-of-object-mode-fall-back-behaviour-when-using-jit for details.\n"
     ]
    }
   ],
   "source": [
    "from lux.lux import LUX\n",
    "from sklearn.model_selection import train_test_split\n",
    "from sklearn.metrics import accuracy_score, roc_curve, auc, confusion_matrix, classification_report\n",
    "from sklearn import preprocessing\n",
    "import sklearn\n",
    "from sklearn.compose import ColumnTransformer\n",
    "\n",
    "import pandas as pd\n",
    "import numpy as np\n",
    "import matplotlib.pyplot as plt\n",
    "import seaborn as sns\n",
    "import shap\n",
    "from sklearn.preprocessing import normalize, MinMaxScaler\n",
    "from sklearn.ensemble import RandomForestClassifier\n",
    "from sklearn.ensemble import GradientBoostingClassifier"
   ]
  },
  {
   "cell_type": "markdown",
   "metadata": {},
   "source": [
    "# Iris example"
   ]
  },
  {
   "cell_type": "code",
   "execution_count": 2,
   "metadata": {},
   "outputs": [
    {
     "data": {
      "text/plain": [
       "1.0"
      ]
     },
     "execution_count": 2,
     "metadata": {},
     "output_type": "execute_result"
    }
   ],
   "source": [
    "from lux.lux import LUX\n",
    "from sklearn import datasets\n",
    "from sklearn.model_selection import train_test_split\n",
    "from sklearn import svm\n",
    "import numpy as np\n",
    "import pandas as pd\n",
    "# import some data to play with\n",
    "iris = datasets.load_iris()\n",
    "features = ['sepal_length','sepal_width','petal_length','petal_width']\n",
    "target = 'class'\n",
    "rs=42\n",
    "fraction=0.2\n",
    "\n",
    "#create daatframe with columns names as strings (LUX accepts only DataFrames withj string columns names)\n",
    "df_iris = pd.DataFrame(iris.data,columns=features)\n",
    "df_iris[target] = iris.target\n",
    "\n",
    "#train classifier\n",
    "train, test = train_test_split(df_iris, random_state=rs)\n",
    "clf = GradientBoostingClassifier(random_state=rs)# svm.SVC(probability=True, random_state=rs)\n",
    "clf.fit(train[features],train[target])\n",
    "clf.score(test[features],test[target])"
   ]
  },
  {
   "cell_type": "markdown",
   "metadata": {},
   "source": [
    "## Withoiut uncertainty of predictor "
   ]
  },
  {
   "cell_type": "code",
   "execution_count": 3,
   "metadata": {},
   "outputs": [
    {
     "name": "stderr",
     "output_type": "stream",
     "text": [
      "X does not have valid feature names, but GradientBoostingClassifier was fitted with feature names\n",
      "X does not have valid feature names, but GradientBoostingClassifier was fitted with feature names\n"
     ]
    },
    {
     "data": {
      "text/plain": [
       "['IF petal_length <2.449999988079071 THEN class = 0 # 1.0\\n']"
      ]
     },
     "execution_count": 3,
     "metadata": {},
     "output_type": "execute_result"
    }
   ],
   "source": [
    "#pick some instance from datasetr\n",
    "iris_instance = train[features].sample(1, random_state=42).values\n",
    "iris_instance\n",
    "\n",
    "#train lux on neighbourhood equal 30% instances\n",
    "def noproba_predictor(x):\n",
    "    preds = clf.predict_proba(x)\n",
    "    hot = np.argmax(preds,axis=1)\n",
    "    result = np.zeros(preds.shape)\n",
    "    for i in range(0,len(result)):\n",
    "        result[i,hot[i]] = 1\n",
    "    return result\n",
    "\n",
    "lux = LUX(predict_proba = lambda x: noproba_predictor(x), neighborhood_size=int(len(train)*fraction),max_depth=2,  node_size_limit = 1, grow_confidence_threshold = 0 )\n",
    "lux.fit(train[features], train[target], instance_to_explain=iris_instance,class_names=[0,1,2],n_jobs=1)\n",
    "\n",
    "#see the justification of the instance being classified for a given class\n",
    "lux.justify(np.array(iris_instance))"
   ]
  },
  {
   "cell_type": "code",
   "execution_count": 4,
   "metadata": {},
   "outputs": [
    {
     "name": "stdout",
     "output_type": "stream",
     "text": [
      "Accuracy : 0.8157894736842105\n"
     ]
    }
   ],
   "source": [
    "#calculate decision tree score over this dataset\n",
    "import sys\n",
    "sys.path.append('./pyuid3')\n",
    "\n",
    "from sklearn.metrics import accuracy_score, f1_score, precision_score, recall_score\n",
    "from pyuid3.data import Data\n",
    "features = ['petal_width','sepal_width','sepal_length','petal_length']\n",
    "data = Data.parse_dataframe(test[features+[target]])\n",
    "    \n",
    "predictions = [int(x.get_name()) for x in lux.uid3.predict(data.instances)]\n",
    "print(f'Accuracy : {accuracy_score(predictions, test[target])}')\n"
   ]
  },
  {
   "cell_type": "code",
   "execution_count": 5,
   "metadata": {},
   "outputs": [
    {
     "data": {
      "image/png": "[encoded data removed]",
      "text/plain": [
       "<IPython.core.display.Image object>"
      ]
     },
     "execution_count": 5,
     "metadata": {},
     "output_type": "execute_result"
    }
   ],
   "source": [
    "import graphviz\n",
    "from graphviz import Source\n",
    "from IPython.display import SVG, Image\n",
    "instance2explain=train[train['class']==1].sample(1)\n",
    "counterfactual=train[train['class']==0].sample(1)\n",
    "lux.uid3.tree.save_dot('tree.dot',fmt='.2f',visual=True, background_data=train, instance2explain=instance2explain,\n",
    "                      counterfactual=counterfactual)\n",
    "gvz=graphviz.Source.from_file('tree.dot')\n",
    "!dot -Tpng tree.dot > tree.png\n",
    "Image('tree.png')"
   ]
  },
  {
   "cell_type": "code",
   "execution_count": 6,
   "metadata": {},
   "outputs": [
    {
     "data": {
      "text/html": [
       "<div>\n",
       "<style scoped>\n",
       "    .dataframe tbody tr th:only-of-type {\n",
       "        vertical-align: middle;\n",
       "    }\n",
       "\n",
       "    .dataframe tbody tr th {\n",
       "        vertical-align: top;\n",
       "    }\n",
       "\n",
       "    .dataframe thead th {\n",
       "        text-align: right;\n",
       "    }\n",
       "</style>\n",
       "<table border=\"1\" class=\"dataframe\">\n",
       "  <thead>\n",
       "    <tr style=\"text-align: right;\">\n",
       "      <th></th>\n",
       "      <th>sepal_length</th>\n",
       "      <th>sepal_width</th>\n",
       "      <th>petal_length</th>\n",
       "      <th>petal_width</th>\n",
       "      <th>class</th>\n",
       "    </tr>\n",
       "  </thead>\n",
       "  <tbody>\n",
       "    <tr>\n",
       "      <th>88</th>\n",
       "      <td>5.6</td>\n",
       "      <td>3.0</td>\n",
       "      <td>4.1</td>\n",
       "      <td>1.3</td>\n",
       "      <td>1</td>\n",
       "    </tr>\n",
       "  </tbody>\n",
       "</table>\n",
       "</div>"
      ],
      "text/plain": [
       "    sepal_length  sepal_width  petal_length  petal_width  class\n",
       "88           5.6          3.0           4.1          1.3      1"
      ]
     },
     "execution_count": 6,
     "metadata": {},
     "output_type": "execute_result"
    }
   ],
   "source": [
    "instance2explain"
   ]
  },
  {
   "cell_type": "code",
   "execution_count": 7,
   "metadata": {},
   "outputs": [
    {
     "data": {
      "image/svg+xml": [
       "<?xml version=\"1.0\" encoding=\"UTF-8\" standalone=\"no\"?>\n",
       "<!DOCTYPE svg PUBLIC \"-//W3C//DTD SVG 1.1//EN\"\n",
       " \"http://www.w3.org/Graphics/SVG/1.1/DTD/svg11.dtd\">\n",
       "<!-- Generated by graphviz version 2.43.0 (0)\n",
       " -->\n",
       "<!-- Title: mediationTree Pages: 1 -->\n",
       "<svg width=\"477pt\" height=\"344pt\"\n",
       " viewBox=\"0.00 0.00 476.50 344.00\" xmlns=\"http://www.w3.org/2000/svg\" xmlns:xlink=\"http://www.w3.org/1999/xlink\">\n",
       "<g id=\"graph0\" class=\"graph\" transform=\"scale(1 1) rotate(0) translate(4 340)\">\n",
       "<title>mediationTree</title>\n",
       "<polygon fill=\"white\" stroke=\"transparent\" points=\"-4,4 -4,-340 472.5,-340 472.5,4 -4,4\"/>\n",
       "<!-- 8781350782645 -->\n",
       "<g id=\"node1\" class=\"node\">\n",
       "<title>8781350782645</title>\n",
       "<polygon fill=\"none\" stroke=\"black\" points=\"176.5,-336 66.5,-336 66.5,-298 176.5,-298 176.5,-336\"/>\n",
       "<text text-anchor=\"middle\" x=\"121.5\" y=\"-320.8\" font-family=\"Times,serif\" font-size=\"14.00\"> petal_length</text>\n",
       "<text text-anchor=\"middle\" x=\"121.5\" y=\"-305.8\" font-family=\"Times,serif\" font-size=\"14.00\"> </text>\n",
       "</g>\n",
       "<!-- 8781350786928 -->\n",
       "<g id=\"node2\" class=\"node\">\n",
       "<title>8781350786928</title>\n",
       "<polygon fill=\"none\" stroke=\"red\" points=\"59,-232 0,-232 0,-149 59,-149 59,-232\"/>\n",
       "<text text-anchor=\"middle\" x=\"29.5\" y=\"-216.8\" font-family=\"Times,serif\" font-size=\"14.00\"> class</text>\n",
       "<text text-anchor=\"middle\" x=\"29.5\" y=\"-201.8\" font-family=\"Times,serif\" font-size=\"14.00\">0[1.0]</text>\n",
       "<text text-anchor=\"middle\" x=\"29.5\" y=\"-186.8\" font-family=\"Times,serif\" font-size=\"14.00\">1[0.0]</text>\n",
       "<text text-anchor=\"middle\" x=\"29.5\" y=\"-171.8\" font-family=\"Times,serif\" font-size=\"14.00\">2[0.0]</text>\n",
       "<text text-anchor=\"middle\" x=\"29.5\" y=\"-156.8\" font-family=\"Times,serif\" font-size=\"14.00\"> </text>\n",
       "</g>\n",
       "<!-- 8781350782645&#45;&gt;8781350786928 -->\n",
       "<g id=\"edge1\" class=\"edge\">\n",
       "<title>8781350782645&#45;&gt;8781350786928</title>\n",
       "<path fill=\"none\" stroke=\"black\" d=\"M66.32,-305.75C52.38,-300.42 38.98,-292.32 30.5,-280 23.08,-269.21 20.49,-255.8 20.33,-242.71\"/>\n",
       "<polygon fill=\"black\" stroke=\"black\" points=\"23.84,-242.44 20.68,-232.33 16.85,-242.2 23.84,-242.44\"/>\n",
       "<text text-anchor=\"middle\" x=\"111\" y=\"-268.8\" font-family=\"Times,serif\" font-size=\"14.00\">&lt;2.449999988079071</text>\n",
       "<text text-anchor=\"middle\" x=\"111\" y=\"-253.8\" font-family=\"Times,serif\" font-size=\"14.00\"> conf=1.0 </text>\n",
       "</g>\n",
       "<!-- 8781350786961 -->\n",
       "<g id=\"node3\" class=\"node\">\n",
       "<title>8781350786961</title>\n",
       "<polygon fill=\"none\" stroke=\"black\" points=\"268.5,-209.5 158.5,-209.5 158.5,-171.5 268.5,-171.5 268.5,-209.5\"/>\n",
       "<text text-anchor=\"middle\" x=\"213.5\" y=\"-194.3\" font-family=\"Times,serif\" font-size=\"14.00\"> petal_length</text>\n",
       "<text text-anchor=\"middle\" x=\"213.5\" y=\"-179.3\" font-family=\"Times,serif\" font-size=\"14.00\"> </text>\n",
       "</g>\n",
       "<!-- 8781350782645&#45;&gt;8781350786961 -->\n",
       "<g id=\"edge2\" class=\"edge\">\n",
       "<title>8781350782645&#45;&gt;8781350786961</title>\n",
       "<path fill=\"none\" stroke=\"black\" d=\"M170.33,-297.84C178.31,-293.07 185.82,-287.18 191.5,-280 205.04,-262.9 210.38,-238.59 212.42,-219.77\"/>\n",
       "<polygon fill=\"black\" stroke=\"black\" points=\"215.92,-219.94 213.26,-209.69 208.94,-219.36 215.92,-219.94\"/>\n",
       "<text text-anchor=\"middle\" x=\"293\" y=\"-268.8\" font-family=\"Times,serif\" font-size=\"14.00\">&gt;=2.449999988079071</text>\n",
       "<text text-anchor=\"middle\" x=\"293\" y=\"-253.8\" font-family=\"Times,serif\" font-size=\"14.00\"> conf=1.0 </text>\n",
       "</g>\n",
       "<!-- 8781350789675 -->\n",
       "<g id=\"node4\" class=\"node\">\n",
       "<title>8781350789675</title>\n",
       "<polygon fill=\"none\" stroke=\"red\" points=\"151,-83 92,-83 92,0 151,0 151,-83\"/>\n",
       "<text text-anchor=\"middle\" x=\"121.5\" y=\"-67.8\" font-family=\"Times,serif\" font-size=\"14.00\"> class</text>\n",
       "<text text-anchor=\"middle\" x=\"121.5\" y=\"-52.8\" font-family=\"Times,serif\" font-size=\"14.00\">0[0.0]</text>\n",
       "<text text-anchor=\"middle\" x=\"121.5\" y=\"-37.8\" font-family=\"Times,serif\" font-size=\"14.00\">1[1.0]</text>\n",
       "<text text-anchor=\"middle\" x=\"121.5\" y=\"-22.8\" font-family=\"Times,serif\" font-size=\"14.00\">2[0.0]</text>\n",
       "<text text-anchor=\"middle\" x=\"121.5\" y=\"-7.8\" font-family=\"Times,serif\" font-size=\"14.00\"> </text>\n",
       "</g>\n",
       "<!-- 8781350786961&#45;&gt;8781350789675 -->\n",
       "<g id=\"edge3\" class=\"edge\">\n",
       "<title>8781350786961&#45;&gt;8781350789675</title>\n",
       "<path fill=\"none\" stroke=\"black\" d=\"M167.27,-171.25C150.05,-161.93 132.32,-148.75 122.5,-131 116.28,-119.75 114.01,-106.41 113.79,-93.54\"/>\n",
       "<polygon fill=\"black\" stroke=\"black\" points=\"117.29,-93.44 114.01,-83.37 110.29,-93.29 117.29,-93.44\"/>\n",
       "<text text-anchor=\"middle\" x=\"203\" y=\"-119.8\" font-family=\"Times,serif\" font-size=\"14.00\">&lt;4.400000095367432</text>\n",
       "<text text-anchor=\"middle\" x=\"203\" y=\"-104.8\" font-family=\"Times,serif\" font-size=\"14.00\"> conf=1.0 </text>\n",
       "</g>\n",
       "<!-- 8781350789705 -->\n",
       "<g id=\"node5\" class=\"node\">\n",
       "<title>8781350789705</title>\n",
       "<polygon fill=\"none\" stroke=\"red\" points=\"335,-83 276,-83 276,0 335,0 335,-83\"/>\n",
       "<text text-anchor=\"middle\" x=\"305.5\" y=\"-67.8\" font-family=\"Times,serif\" font-size=\"14.00\"> class</text>\n",
       "<text text-anchor=\"middle\" x=\"305.5\" y=\"-52.8\" font-family=\"Times,serif\" font-size=\"14.00\">0[0.0]</text>\n",
       "<text text-anchor=\"middle\" x=\"305.5\" y=\"-37.8\" font-family=\"Times,serif\" font-size=\"14.00\">1[0.0]</text>\n",
       "<text text-anchor=\"middle\" x=\"305.5\" y=\"-22.8\" font-family=\"Times,serif\" font-size=\"14.00\">2[1.0]</text>\n",
       "<text text-anchor=\"middle\" x=\"305.5\" y=\"-7.8\" font-family=\"Times,serif\" font-size=\"14.00\"> </text>\n",
       "</g>\n",
       "<!-- 8781350786961&#45;&gt;8781350789705 -->\n",
       "<g id=\"edge4\" class=\"edge\">\n",
       "<title>8781350786961&#45;&gt;8781350789705</title>\n",
       "<path fill=\"none\" stroke=\"black\" d=\"M242.89,-171.41C257.14,-161.2 273.33,-147.25 283.5,-131 290.59,-119.66 295.4,-106.17 298.66,-93.18\"/>\n",
       "<polygon fill=\"black\" stroke=\"black\" points=\"302.08,-93.92 300.86,-83.39 295.25,-92.38 302.08,-93.92\"/>\n",
       "<text text-anchor=\"middle\" x=\"382\" y=\"-119.8\" font-family=\"Times,serif\" font-size=\"14.00\">&gt;=4.400000095367432</text>\n",
       "<text text-anchor=\"middle\" x=\"382\" y=\"-104.8\" font-family=\"Times,serif\" font-size=\"14.00\"> conf=1.0 </text>\n",
       "</g>\n",
       "</g>\n",
       "</svg>\n"
      ],
      "text/plain": [
       "<graphviz.sources.Source at 0x7fc9385d37c0>"
      ]
     },
     "execution_count": 7,
     "metadata": {},
     "output_type": "execute_result"
    }
   ],
   "source": [
    "#prind the uncertain local tree for the given instance\n",
    "import graphviz\n",
    "lux.uid3.tree.save_dot('tree.dot')\n",
    "graphviz.Source.from_file('tree.dot')"
   ]
  },
  {
   "cell_type": "code",
   "execution_count": 8,
   "metadata": {},
   "outputs": [
    {
     "data": {
      "text/plain": [
       "Text(0.5, 1.0, 'Decision boundary created by LUX for particular instance')"
      ]
     },
     "execution_count": 8,
     "metadata": {},
     "output_type": "execute_result"
    },
    {
     "data": {
      "image/png": "[encoded data removed]",
      "text/plain": [
       "<Figure size 1200x900 with 1 Axes>"
      ]
     },
     "metadata": {},
     "output_type": "display_data"
    }
   ],
   "source": [
    "plt.figure(figsize=(12,9))\n",
    "graph=sns.scatterplot(x='petal_length',y='sepal_width', data=train[['petal_length','sepal_width', target]],hue=target,s=100)\n",
    "graph.axhline(3.3,0, linestyle='--')\n",
    "graph.axvline(4.3)\n",
    "plt.scatter(data=pd.DataFrame(iris_instance,columns=features),x='petal_length',y='sepal_width', marker='o', s=200)\n",
    "plt.title('Decision boundary created by LUX for particular instance')"
   ]
  },
  {
   "cell_type": "markdown",
   "metadata": {},
   "source": [
    "### Without SHAP support"
   ]
  },
  {
   "cell_type": "code",
   "execution_count": 1,
   "metadata": {},
   "outputs": [
    {
     "ename": "NameError",
     "evalue": "name 'train' is not defined",
     "output_type": "error",
     "traceback": [
      "\u001b[0;31m---------------------------------------------------------------------------\u001b[0m",
      "\u001b[0;31mNameError\u001b[0m                                 Traceback (most recent call last)",
      "Cell \u001b[0;32mIn[1], line 2\u001b[0m\n\u001b[1;32m      1\u001b[0m \u001b[38;5;66;03m#pick some instance from datasetr\u001b[39;00m\n\u001b[0;32m----> 2\u001b[0m iris_instance \u001b[38;5;241m=\u001b[39m \u001b[43mtrain\u001b[49m[features]\u001b[38;5;241m.\u001b[39msample(\u001b[38;5;241m1\u001b[39m, random_state\u001b[38;5;241m=\u001b[39m\u001b[38;5;241m42\u001b[39m)\u001b[38;5;241m.\u001b[39mvalues\n\u001b[1;32m      3\u001b[0m iris_instance\n\u001b[1;32m      5\u001b[0m \u001b[38;5;66;03m#train lux on neighbourhood equal 30% instances\u001b[39;00m\n",
      "\u001b[0;31mNameError\u001b[0m: name 'train' is not defined"
     ]
    }
   ],
   "source": [
    "#pick some instance from datasetr\n",
    "iris_instance = train[features].sample(1, random_state=42).values\n",
    "iris_instance\n",
    "\n",
    "#train lux on neighbourhood equal 30% instances\n",
    "lux = LUX(predict_proba = clf.predict_proba,neighborhood_size=int(len(train)*fraction),max_depth=2,  node_size_limit = 1, grow_confidence_threshold = 0 )\n",
    "lux.fit(train[features], train[target], instance_to_explain=iris_instance,class_names=[0,1,2])\n",
    "\n",
    "#see the justification of the instance being classified for a given class\n",
    "lux.justify(np.array(iris_instance))"
   ]
  },
  {
   "cell_type": "code",
   "execution_count": null,
   "metadata": {},
   "outputs": [],
   "source": [
    "#calculate decision tree score over this dataset\n",
    "import sys\n",
    "sys.path.append('./pyuid3')\n",
    "\n",
    "from sklearn.metrics import accuracy_score, f1_score, precision_score, recall_score\n",
    "from pyuid3.data import Data\n",
    "data = Data.parse_dataframe(test[features+[target]])\n",
    "    \n",
    "predictions = [int(x.get_name()) for x in lux.uid3.predict(data.instances)]\n",
    "print(f'Accuracy : {accuracy_score(predictions, test[target])}')\n"
   ]
  },
  {
   "cell_type": "code",
   "execution_count": null,
   "metadata": {},
   "outputs": [],
   "source": [
    "#have a look at the entire rule-based model that can be executed with https:://heartdroid.re\n",
    "#print(lux.to_HMR())"
   ]
  },
  {
   "cell_type": "code",
   "execution_count": null,
   "metadata": {},
   "outputs": [],
   "source": [
    "#prind the uncertain local tree for the given instance\n",
    "import graphviz\n",
    "lux.uid3.tree.save_dot('tree.dot')\n",
    "graphviz.Source.from_file('tree.dot')"
   ]
  },
  {
   "cell_type": "markdown",
   "metadata": {},
   "source": [
    "## In fact, the explanation above is overcomplicated\n",
    "The explanation can be made only using petal_lenght, but due to the greadiness of decision tree classifier, algorithm could not select correct split criterion for the fist place"
   ]
  },
  {
   "cell_type": "code",
   "execution_count": null,
   "metadata": {},
   "outputs": [],
   "source": [
    "plt.figure(figsize=(12,9))\n",
    "graph=sns.scatterplot(x='petal_length',y='sepal_width', data=train[['petal_length','sepal_width', target]],hue=clf.predict(train[features]),s=100)\n",
    "graph.axhline(3.3,0, linestyle='--')\n",
    "graph.axvline(4.3)\n",
    "plt.scatter(data=pd.DataFrame(iris_instance,columns=features),x='petal_length',y='sepal_width', marker='o', s=200)\n",
    "plt.title('Decision boundary created by LUX for particular instance')"
   ]
  },
  {
   "cell_type": "markdown",
   "metadata": {},
   "source": [
    "## Iris example with SHAP values\n",
    "The explanation is more compact, and more consistend with the model, hence, the LUX tree with SHAP support obtains more accuray on the whole dataset, wing smaller than LUX tree without SHAP support"
   ]
  },
  {
   "cell_type": "code",
   "execution_count": null,
   "metadata": {},
   "outputs": [],
   "source": [
    "from lux.lux import LUX\n",
    "from sklearn import datasets\n",
    "from sklearn.model_selection import train_test_split\n",
    "from sklearn import svm\n",
    "import numpy as np\n",
    "import pandas as pd\n",
    "# import some data to play with\n",
    "iris = datasets.load_iris()\n",
    "features = ['sepal_length','sepal_width','petal_length','petal_width']\n",
    "target = 'calss'\n",
    "\n",
    "#create daatframe with columns names as strings (LUX accepts only DataFrames withj string columns names)\n",
    "df_iris = pd.DataFrame(iris.data,columns=features)\n",
    "df_iris[target] = iris.target\n",
    "\n",
    "#train classifier\n",
    "train, test = train_test_split(df_iris, random_state=rs)\n",
    "clf = svm.SVC(probability=True,random_state=rs)\n",
    "clf.fit(train[features].values,train[target])\n",
    "clf.score(test[features].values,test[target])"
   ]
  },
  {
   "cell_type": "code",
   "execution_count": null,
   "metadata": {},
   "outputs": [],
   "source": [
    "import shap\n",
    "shap.initjs()\n",
    "\n",
    "explainer = shap.KernelExplainer(clf.predict_proba, train[features])\n",
    "shap_values = explainer.shap_values(train[features])"
   ]
  },
  {
   "cell_type": "code",
   "execution_count": null,
   "metadata": {},
   "outputs": [],
   "source": [
    "shap.summary_plot(shap_values, features=None, feature_names=features, max_display=None)"
   ]
  },
  {
   "cell_type": "code",
   "execution_count": null,
   "metadata": {},
   "outputs": [],
   "source": [
    "#train lux on neighbourhood equal 30% instances\n",
    "import warnings\n",
    "warnings.filterwarnings('ignore')\n",
    "lux = LUX(predict_proba = clf.predict_proba,classifier=clf, neighborhood_size=int(len(train)*fraction),max_depth=2,  node_size_limit = 3, grow_confidence_threshold = 0 )\n",
    "lux.fit(train[features], train[target], X_importances = None,  instance_to_explain=iris_instance,class_names=[0,1,2],discount_importance=True)\n",
    "\n",
    "#see the justification of the instance being classified for a given class\n",
    "lux.justify(np.array(iris_instance))"
   ]
  },
  {
   "cell_type": "code",
   "execution_count": null,
   "metadata": {},
   "outputs": [],
   "source": [
    "#calculate decision tree score over this dataset\n",
    "import sys\n",
    "sys.path.append('./pyuid3')\n",
    "\n",
    "from sklearn.metrics import accuracy_score, f1_score, precision_score, recall_score\n",
    "from pyuid3.data import Data\n",
    "data = Data.parse_dataframe(test[features+[target]])\n",
    "    \n",
    "predictions = [int(x.get_name()) for x in lux.uid3.predict(data.instances)]\n",
    "print(f'Accuracy : {accuracy_score(predictions, test[target])}')\n"
   ]
  },
  {
   "cell_type": "code",
   "execution_count": null,
   "metadata": {},
   "outputs": [],
   "source": [
    "#prind the uncertain local tree for the given instance\n",
    "import graphviz\n",
    "lux.uid3.tree.save_dot('tree.dot')\n",
    "graphviz.Source.from_file('tree.dot')"
   ]
  },
  {
   "cell_type": "code",
   "execution_count": null,
   "metadata": {},
   "outputs": [],
   "source": [
    "plt.figure(figsize=(12,9))\n",
    "graph=sns.scatterplot(x='petal_length',y='petal_width', data=train[['petal_length','petal_width',target]],hue=target, alpha=clf.predict_proba(train[features]).max(axis=1),s=100)\n",
    "graph.axvline(2.45)\n",
    "graph.axvline(4.75)\n",
    "plt.scatter(data=pd.DataFrame(iris_instance,columns=features),x='petal_length',y='petal_width', marker='o', s=200)\n",
    "plt.title('Decision boundary created by LUX for particular instance with SHAP support')"
   ]
  },
  {
   "cell_type": "markdown",
   "metadata": {},
   "source": [
    "# Wine example"
   ]
  },
  {
   "cell_type": "code",
   "execution_count": null,
   "metadata": {},
   "outputs": [],
   "source": [
    "from lux.lux import LUX\n",
    "from sklearn import datasets\n",
    "from sklearn.model_selection import train_test_split\n",
    "from sklearn import svm\n",
    "import numpy as np\n",
    "import pandas as pd\n",
    "# import some data to play with\n",
    "wine = datasets.load_wine()"
   ]
  },
  {
   "cell_type": "code",
   "execution_count": null,
   "metadata": {},
   "outputs": [],
   "source": [
    "features = wine['feature_names']\n",
    "target = 'calss'\n",
    "rs=42\n",
    "\n",
    "#create daatframe with columns names as strings (LUX accepts only DataFrames withj string columns names)\n",
    "df_wine = pd.DataFrame(wine.data,columns=features)\n",
    "df_wine[target] = wine.target\n",
    "\n",
    "#train classifier\n",
    "train, test = train_test_split(df_wine, random_state=rs)\n",
    "clf = RandomForestClassifier(random_state=42)#svm.SVC(probability=True, random_state=rs)\n",
    "clf.fit(train[features],train[target])\n",
    "clf.score(test[features],test[target])"
   ]
  },
  {
   "cell_type": "markdown",
   "metadata": {},
   "source": [
    "## Without predictor uncertainty"
   ]
  },
  {
   "cell_type": "code",
   "execution_count": null,
   "metadata": {},
   "outputs": [],
   "source": [
    "#pick some instance from datasetr\n",
    "iris_instance = train[features].sample(1, random_state=42).values\n",
    "iris_instance\n",
    "\n",
    "#train lux on neighbourhood equal 30% instances\n",
    "lux = LUX(predict_proba = lambda x: np.round(clf.predict_proba(x)), neighborhood_size=int(len(train)*fraction),max_depth=2,  node_size_limit = 1, grow_confidence_threshold = 0 )\n",
    "lux.fit(train[features], train[target], instance_to_explain=iris_instance,class_names=[0,1,2])\n",
    "\n",
    "#see the justification of the instance being classified for a given class\n",
    "lux.justify(np.array(iris_instance))"
   ]
  },
  {
   "cell_type": "code",
   "execution_count": null,
   "metadata": {},
   "outputs": [],
   "source": [
    "#calculate decision tree score over this dataset\n",
    "import sys\n",
    "sys.path.append('./pyuid3')\n",
    "\n",
    "from sklearn.metrics import accuracy_score, f1_score, precision_score, recall_score\n",
    "from pyuid3.data import Data\n",
    "data = Data.parse_dataframe(test[features+[target]])\n",
    "    \n",
    "predictions = [int(x.get_name()) for x in lux.uid3.predict(data.instances)]\n",
    "print(f'Accuracy : {accuracy_score(predictions, test[target])}')\n"
   ]
  },
  {
   "cell_type": "code",
   "execution_count": null,
   "metadata": {},
   "outputs": [],
   "source": [
    "#prind the uncertain local tree for the given instance\n",
    "import graphviz\n",
    "lux.uid3.tree.save_dot('tree.dot')\n",
    "graphviz.Source.from_file('tree.dot')"
   ]
  },
  {
   "cell_type": "markdown",
   "metadata": {},
   "source": [
    "## Without SHAP"
   ]
  },
  {
   "cell_type": "code",
   "execution_count": null,
   "metadata": {},
   "outputs": [],
   "source": [
    "#pick some instance from datasetr\n",
    "iris_instance = train[features].sample(1, random_state=42).values\n",
    "iris_instance\n",
    "\n",
    "#train lux on neighbourhood equal 20 instances\n",
    "lux = LUX(predict_proba = clf.predict_proba, neighborhood_size=int(len(train)*fraction),max_depth=2,  node_size_limit = 1, grow_confidence_threshold = 0 )\n",
    "lux.fit(train[features], train[target], instance_to_explain=iris_instance,class_names=[0,1,2])\n",
    "\n",
    "#see the justification of the instance being classified for a given class\n",
    "lux.justify(np.array(iris_instance))"
   ]
  },
  {
   "cell_type": "code",
   "execution_count": null,
   "metadata": {},
   "outputs": [],
   "source": [
    "#calculate decision tree score over this dataset\n",
    "import sys\n",
    "sys.path.append('./pyuid3')\n",
    "\n",
    "from sklearn.metrics import accuracy_score, f1_score, precision_score, recall_score\n",
    "from pyuid3.data import Data\n",
    "data = Data.parse_dataframe(test[features+[target]])\n",
    "    \n",
    "predictions = [int(x.get_name()) for x in lux.uid3.predict(data.instances)]\n",
    "print(f'Accuracy : {accuracy_score(predictions, test[target])}')\n"
   ]
  },
  {
   "cell_type": "code",
   "execution_count": null,
   "metadata": {},
   "outputs": [],
   "source": [
    "#prind the uncertain local tree for the given instance\n",
    "import graphviz\n",
    "lux.uid3.tree.save_dot('tree.dot')\n",
    "graphviz.Source.from_file('tree.dot')"
   ]
  },
  {
   "cell_type": "code",
   "execution_count": null,
   "metadata": {},
   "outputs": [],
   "source": [
    "plt.figure(figsize=(12,9))\n",
    "graph=sns.scatterplot(x='proline',y='color_intensity', data=train[['proline','color_intensity',target]],hue=target, alpha=clf.predict_proba(train[features]).max(axis=1),s=100)\n",
    "plt.scatter(data=pd.DataFrame(iris_instance,columns=features),x='proline',y='color_intensity', marker='o', s=200)\n",
    "graph.axhline(4.07)\n",
    "graph.axvline(655)\n",
    "plt.title('Decision boundary created by LUX for particular instance without SHAP support')"
   ]
  },
  {
   "cell_type": "markdown",
   "metadata": {},
   "source": [
    "## With SHAP"
   ]
  },
  {
   "cell_type": "code",
   "execution_count": null,
   "metadata": {},
   "outputs": [],
   "source": [
    "import shap\n",
    "shap.initjs()\n",
    "\n",
    "explainer = shap.TreeExplainer(clf, train[features])\n",
    "shap_values = explainer.shap_values(train[features],check_additivity=False)"
   ]
  },
  {
   "cell_type": "code",
   "execution_count": null,
   "metadata": {},
   "outputs": [],
   "source": [
    "shap.summary_plot(shap_values, features=None, feature_names=features, max_display=None)"
   ]
  },
  {
   "cell_type": "code",
   "execution_count": null,
   "metadata": {},
   "outputs": [],
   "source": [
    "#train lux on neighbourhood equal 20% instances\n",
    "lux = LUX(predict_proba = clf.predict_proba, classifier=clf, neighborhood_size=int(len(train)*fraction),max_depth=2,  node_size_limit = 3, grow_confidence_threshold = 0 )\n",
    "lux.fit(train[features], train[target], X_importances = None,  instance_to_explain=iris_instance,class_names=[0,1,2],discount_importance=True)\n",
    "\n",
    "#see the justification of the instance being classified for a given class\n",
    "lux.justify(np.array(iris_instance))"
   ]
  },
  {
   "cell_type": "code",
   "execution_count": null,
   "metadata": {},
   "outputs": [],
   "source": [
    "#calculate decision tree score over this dataset\n",
    "import sys\n",
    "sys.path.append('./pyuid3')\n",
    "\n",
    "from sklearn.metrics import accuracy_score, f1_score, precision_score, recall_score\n",
    "from pyuid3.data import Data\n",
    "data = Data.parse_dataframe(test[features+[target]])\n",
    "    \n",
    "predictions = [int(x.get_name()) for x in lux.uid3.predict(data.instances)]\n",
    "print(f'Accuracy : {accuracy_score(predictions, test[target])}')\n"
   ]
  },
  {
   "cell_type": "code",
   "execution_count": null,
   "metadata": {},
   "outputs": [],
   "source": [
    "#prind the uncertain local tree for the given instance\n",
    "import graphviz\n",
    "lux.uid3.tree.save_dot('tree.dot')\n",
    "graphviz.Source.from_file('tree.dot')"
   ]
  },
  {
   "cell_type": "code",
   "execution_count": null,
   "metadata": {},
   "outputs": [],
   "source": [
    "plt.figure(figsize=(12,9))\n",
    "graph=sns.scatterplot(x='flavanoids',y='color_intensity', data=train[['flavanoids','color_intensity',target]],hue=target, alpha=clf.predict_proba(train[features]).max(axis=1),s=100)\n",
    "graph.axvline(1.49)\n",
    "graph.axhline(3.425)\n",
    "plt.scatter(data=pd.DataFrame(iris_instance,columns=features),x='flavanoids',y='color_intensity', marker='o', s=200)\n",
    "plt.title('Decision boundary created by LUX for particular instance SHAP support')"
   ]
  },
  {
   "cell_type": "markdown",
   "metadata": {},
   "source": [
    "# Breast cancer"
   ]
  },
  {
   "cell_type": "code",
   "execution_count": null,
   "metadata": {},
   "outputs": [],
   "source": [
    "from lux.lux import LUX\n",
    "from sklearn import datasets\n",
    "from sklearn.model_selection import train_test_split\n",
    "from sklearn import svm\n",
    "import numpy as np\n",
    "import pandas as pd\n",
    "# import some data to play with\n",
    "cancer = datasets.load_breast_cancer()"
   ]
  },
  {
   "cell_type": "code",
   "execution_count": null,
   "metadata": {},
   "outputs": [],
   "source": [
    "import xgboost as xgb\n",
    "features = [f.replace(\" \",\"_\") for f in cancer['feature_names']]\n",
    "target = 'calss'\n",
    "rs=42\n",
    "\n",
    "#create daatframe with columns names as strings (LUX accepts only DataFrames withj string columns names)\n",
    "df_cancer = pd.DataFrame(cancer.data,columns=features)\n",
    "df_cancer[target] = cancer.target\n",
    "\n",
    "#train classifier\n",
    "train, test = train_test_split(df_cancer, random_state=rs)\n",
    "clf = RandomForestClassifier(random_state=42)#svm.SVC(probability=True, random_state=rs)\n",
    "clf.fit(train[features],train[target])\n",
    "clf.score(test[features],test[target])"
   ]
  },
  {
   "cell_type": "markdown",
   "metadata": {},
   "source": [
    "## Without predictor uncertinaty"
   ]
  },
  {
   "cell_type": "code",
   "execution_count": null,
   "metadata": {},
   "outputs": [],
   "source": [
    "#pick some instance from datasetr\n",
    "iris_instance = train[features].sample(1, random_state=42).values\n",
    "iris_instance\n",
    "\n",
    "#train lux on neighbourhood equal 30% instances\n",
    "lux = LUX(predict_proba = lambda x: np.round(clf.predict_proba(x)), neighborhood_size=int(len(train)*fraction),max_depth=2,  node_size_limit = 1, grow_confidence_threshold = 0 )\n",
    "lux.fit(train[features], train[target], instance_to_explain=iris_instance,class_names=[0,1])\n",
    "\n",
    "#see the justification of the instance being classified for a given class\n",
    "lux.justify(np.array(iris_instance))"
   ]
  },
  {
   "cell_type": "code",
   "execution_count": null,
   "metadata": {},
   "outputs": [],
   "source": [
    "#calculate decision tree score over this dataset\n",
    "import sys\n",
    "sys.path.append('./pyuid3')\n",
    "\n",
    "from sklearn.metrics import accuracy_score, f1_score, precision_score, recall_score\n",
    "from pyuid3.data import Data\n",
    "data = Data.parse_dataframe(test[features+[target]])\n",
    "    \n",
    "predictions = [int(x.get_name()) for x in lux.uid3.predict(data.instances)]\n",
    "print(f'Accuracy : {accuracy_score(predictions, test[target])}')\n"
   ]
  },
  {
   "cell_type": "code",
   "execution_count": null,
   "metadata": {},
   "outputs": [],
   "source": [
    "#prind the uncertain local tree for the given instance\n",
    "import graphviz\n",
    "lux.uid3.tree.save_dot('tree.dot')\n",
    "graphviz.Source.from_file('tree.dot')"
   ]
  },
  {
   "cell_type": "markdown",
   "metadata": {},
   "source": [
    "## Without SHAP"
   ]
  },
  {
   "cell_type": "code",
   "execution_count": null,
   "metadata": {},
   "outputs": [],
   "source": [
    "#pick some instance from datasetr\n",
    "iris_instance = train[features].sample(1, random_state=42).values\n",
    "iris_instance\n",
    "\n",
    "#train lux on neighbourhood equal 20% instances\n",
    "lux = LUX(predict_proba = clf.predict_proba, neighborhood_size=int(len(train)*fraction),max_depth=2,  node_size_limit = 1, grow_confidence_threshold = 0 )\n",
    "lux.fit(train[features], train[target], instance_to_explain=iris_instance,class_names=[0,1])\n",
    "\n",
    "#see the justification of the instance being classified for a given class\n",
    "lux.justify(np.array(iris_instance))"
   ]
  },
  {
   "cell_type": "code",
   "execution_count": null,
   "metadata": {},
   "outputs": [],
   "source": [
    "#calculate decision tree score over this dataset\n",
    "import sys\n",
    "sys.path.append('./pyuid3')\n",
    "\n",
    "from sklearn.metrics import accuracy_score, f1_score, precision_score, recall_score\n",
    "from pyuid3.data import Data\n",
    "data = Data.parse_dataframe(test[features+[target]])\n",
    "    \n",
    "predictions = [int(x.get_name()) for x in lux.uid3.predict(data.instances)]\n",
    "print(f'Accuracy : {accuracy_score(predictions, test[target])}')\n"
   ]
  },
  {
   "cell_type": "code",
   "execution_count": null,
   "metadata": {},
   "outputs": [],
   "source": [
    "#prind the uncertain local tree for the given instance\n",
    "import graphviz\n",
    "lux.uid3.tree.save_dot('tree.dot')\n",
    "graphviz.Source.from_file('tree.dot')"
   ]
  },
  {
   "cell_type": "code",
   "execution_count": null,
   "metadata": {},
   "outputs": [],
   "source": [
    "plt.figure(figsize=(12,9))\n",
    "graph=sns.scatterplot(x='worst_perimeter',y='mean_radius', data=train[['worst_perimeter','mean_radius',target]],hue=target, alpha=clf.predict_proba(train[features]).max(axis=1),s=100)\n",
    "graph.axvline(105.95)\n",
    "graph.axhline(12.8)\n",
    "plt.scatter(data=pd.DataFrame(iris_instance,columns=features),x='worst_perimeter',y='mean_radius', marker='o',color='r', s=200)\n",
    "plt.title('Decision boundary created by LUX for particular instance without SHAP support')"
   ]
  },
  {
   "cell_type": "markdown",
   "metadata": {},
   "source": [
    "## With SHAP"
   ]
  },
  {
   "cell_type": "code",
   "execution_count": null,
   "metadata": {},
   "outputs": [],
   "source": [
    "import shap\n",
    "shap.initjs()\n",
    "# this takes a minute or two since we are explaining over 30 thousand samples in a model with over a thousand trees\n",
    "\n",
    "\n",
    "explainer = shap.Explainer(clf)\n",
    "shap_values = explainer.shap_values(train[features],check_additivity=True)"
   ]
  },
  {
   "cell_type": "code",
   "execution_count": null,
   "metadata": {},
   "outputs": [],
   "source": [
    "shap.summary_plot(shap_values,train[features])#, features=None, feature_names=features, max_display=None)"
   ]
  },
  {
   "cell_type": "code",
   "execution_count": null,
   "metadata": {},
   "outputs": [],
   "source": [
    "#train lux on neighbourhood equal 20% instances\n",
    "lux = LUX(predict_proba = clf.predict_proba, classifier=clf, neighborhood_size=int(len(train)*fraction),max_depth=2,  node_size_limit = 3, grow_confidence_threshold = 0 )\n",
    "lux.fit(train[features], train[target], X_importances = None,  instance_to_explain=iris_instance,class_names=[0,1],discount_importance=True)\n",
    "\n",
    "#see the justification of the instance being classified for a given class\n",
    "lux.justify(np.array(iris_instance))"
   ]
  },
  {
   "cell_type": "code",
   "execution_count": null,
   "metadata": {},
   "outputs": [],
   "source": [
    "#calculate decision tree score over this dataset\n",
    "import sys\n",
    "sys.path.append('./pyuid3')\n",
    "\n",
    "from sklearn.metrics import accuracy_score, f1_score, precision_score, recall_score\n",
    "from pyuid3.data import Data\n",
    "data = Data.parse_dataframe(test[features+[target]])\n",
    "    \n",
    "predictions = [int(x.get_name()) for x in lux.uid3.predict(data.instances)]\n",
    "print(f'Accuracy : {accuracy_score(predictions, test[target])}')\n"
   ]
  },
  {
   "cell_type": "code",
   "execution_count": null,
   "metadata": {},
   "outputs": [],
   "source": [
    "#prind the uncertain local tree for the given instance\n",
    "import graphviz\n",
    "lux.uid3.tree.save_dot('tree.dot')\n",
    "graphviz.Source.from_file('tree.dot')"
   ]
  },
  {
   "cell_type": "code",
   "execution_count": null,
   "metadata": {},
   "outputs": [],
   "source": [
    "plt.figure(figsize=(12,9))\n",
    "graph=sns.scatterplot(x='worst_concave_points',y='worst_perimeter', data=train[['worst_concave_points','worst_perimeter',target]],hue=target, alpha=clf.predict_proba(train[features]).max(axis=1),s=100)\n",
    "graph.axvline(0.14)\n",
    "graph.axhline(101.8)\n",
    "plt.scatter(data=pd.DataFrame(iris_instance,columns=features),x='worst_concave_points',y='worst_perimeter', marker='o',color='r', s=200)\n",
    "plt.title('Decision boundary created by LUX for particular instance with SHAP support')"
   ]
  },
  {
   "cell_type": "code",
   "execution_count": null,
   "metadata": {},
   "outputs": [],
   "source": []
  },
  {
   "cell_type": "code",
   "execution_count": null,
   "metadata": {},
   "outputs": [],
   "source": []
  },
  {
   "cell_type": "code",
   "execution_count": null,
   "metadata": {},
   "outputs": [],
   "source": []
  },
  {
   "cell_type": "code",
   "execution_count": null,
   "metadata": {},
   "outputs": [],
   "source": []
  },
  {
   "cell_type": "code",
   "execution_count": null,
   "metadata": {},
   "outputs": [],
   "source": []
  },
  {
   "cell_type": "code",
   "execution_count": null,
   "metadata": {},
   "outputs": [],
   "source": []
  },
  {
   "cell_type": "code",
   "execution_count": null,
   "metadata": {},
   "outputs": [],
   "source": []
  },
  {
   "cell_type": "code",
   "execution_count": null,
   "metadata": {},
   "outputs": [],
   "source": []
  },
  {
   "cell_type": "code",
   "execution_count": null,
   "metadata": {},
   "outputs": [],
   "source": []
  }
 ],
 "metadata": {
  "kernelspec": {
   "display_name": "luxenv-3.8",
   "language": "python",
   "name": "luxenv"
  },
  "language_info": {
   "codemirror_mode": {
    "name": "ipython",
    "version": 3
   },
   "file_extension": ".py",
   "mimetype": "text/x-python",
   "name": "python",
   "nbconvert_exporter": "python",
   "pygments_lexer": "ipython3",
   "version": "3.8.18"
  }
 },
 "nbformat": 4,
 "nbformat_minor": 4
}
