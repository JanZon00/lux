{
 "cells": [
  {
   "cell_type": "code",
   "execution_count": null,
   "metadata": {},
   "outputs": [],
   "source": [
    "from lux.lux import LUX\n",
    "from sklearn.model_selection import train_test_split\n",
    "from sklearn.metrics import accuracy_score, roc_curve, auc, confusion_matrix, classification_report\n",
    "from sklearn import preprocessing\n",
    "import sklearn\n",
    "from sklearn.compose import ColumnTransformer\n",
    "\n",
    "import pandas as pd\n",
    "import numpy as np\n",
    "import matplotlib.pyplot as plt\n",
    "import seaborn as sns\n",
    "import shap\n",
    "from sklearn.preprocessing import normalize, MinMaxScaler\n",
    "from sklearn.ensemble import RandomForestClassifier"
   ]
  },
  {
   "cell_type": "markdown",
   "metadata": {},
   "source": [
    "# Iris example"
   ]
  },
  {
   "cell_type": "code",
   "execution_count": null,
   "metadata": {},
   "outputs": [],
   "source": [
    "from lux.lux import LUX\n",
    "from sklearn import datasets\n",
    "from sklearn.model_selection import train_test_split\n",
    "from sklearn import svm\n",
    "import numpy as np\n",
    "import pandas as pd\n",
    "# import some data to play with\n",
    "iris = datasets.load_iris()\n",
    "features = ['sepal_length','sepal_width','petal_length','petal_width']\n",
    "target = 'calss'\n",
    "rs=42\n",
    "fraction=0.3\n",
    "\n",
    "#create daatframe with columns names as strings (LUX accepts only DataFrames withj string columns names)\n",
    "df_iris = pd.DataFrame(iris.data,columns=features)\n",
    "df_iris[target] = iris.target\n",
    "\n",
    "#train classifier\n",
    "train, test = train_test_split(df_iris, random_state=rs)\n",
    "clf = svm.SVC(probability=True, random_state=rs)\n",
    "clf.fit(train[features],train[target])\n",
    "clf.score(test[features],test[target])"
   ]
  },
  {
   "cell_type": "markdown",
   "metadata": {},
   "source": [
    "## Withoiut uncertainty of predictor "
   ]
  },
  {
   "cell_type": "code",
   "execution_count": null,
   "metadata": {},
   "outputs": [],
   "source": [
    "#pick some instance from datasetr\n",
    "iris_instance = train[features].sample(1, random_state=42).values\n",
    "iris_instance\n",
    "\n",
    "#train lux on neighbourhood equal 30% instances\n",
    "lux = LUX(predict_proba = lambda x: np.round(clf.predict_proba(x)), neighborhood_size=int(len(train)*fraction),max_depth=2,  node_size_limit = 1, grow_confidence_threshold = 0 )\n",
    "lux.fit(train[features], train[target], instance_to_explain=iris_instance,class_names=[0,1,2])\n",
    "\n",
    "#see the justification of the instance being classified for a given class\n",
    "lux.justify(np.array(iris_instance))"
   ]
  },
  {
   "cell_type": "code",
   "execution_count": null,
   "metadata": {},
   "outputs": [],
   "source": [
    "#calculate decision tree score over this dataset\n",
    "import sys\n",
    "sys.path.append('./pyuid3')\n",
    "\n",
    "from sklearn.metrics import accuracy_score, f1_score, precision_score, recall_score\n",
    "from pyuid3.data import Data\n",
    "data = Data.parse_dataframe(test[features+[target]])\n",
    "    \n",
    "predictions = [int(x.get_name()) for x in lux.uid3.predict(data.instances)]\n",
    "print(f'Accuracy : {accuracy_score(predictions, test[target])}')\n"
   ]
  },
  {
   "cell_type": "code",
   "execution_count": null,
   "metadata": {},
   "outputs": [],
   "source": [
    "#prind the uncertain local tree for the given instance\n",
    "import graphviz\n",
    "lux.uid3.tree.save_dot('tree.dot')\n",
    "graphviz.Source.from_file('tree.dot')"
   ]
  },
  {
   "cell_type": "code",
   "execution_count": null,
   "metadata": {},
   "outputs": [],
   "source": [
    "plt.figure(figsize=(12,9))\n",
    "graph=sns.scatterplot(x='petal_length',y='petal_width', data=train[['petal_length','petal_width', target]],hue=target,s=100)\n",
    "graph.axhline(1.0,0, linestyle='--')\n",
    "graph.axvline(4.8)\n",
    "plt.scatter(data=pd.DataFrame(iris_instance,columns=features),x='petal_length',y='petal_width', marker='o', s=200)\n",
    "plt.title('Decision boundary created by LUX for particular instance')"
   ]
  },
  {
   "cell_type": "markdown",
   "metadata": {},
   "source": [
    "### Without SHAP support"
   ]
  },
  {
   "cell_type": "code",
   "execution_count": null,
   "metadata": {},
   "outputs": [],
   "source": [
    "#pick some instance from datasetr\n",
    "iris_instance = train[features].sample(1, random_state=42).values\n",
    "iris_instance\n",
    "\n",
    "#train lux on neighbourhood equal 30% instances\n",
    "lux = LUX(predict_proba = clf.predict_proba, neighborhood_size=int(len(train)*fraction),max_depth=2,  node_size_limit = 1, grow_confidence_threshold = 0 )\n",
    "lux.fit(train[features], train[target], instance_to_explain=iris_instance,class_names=[0,1,2])\n",
    "\n",
    "#see the justification of the instance being classified for a given class\n",
    "lux.justify(np.array(iris_instance))"
   ]
  },
  {
   "cell_type": "code",
   "execution_count": null,
   "metadata": {},
   "outputs": [],
   "source": [
    "#calculate decision tree score over this dataset\n",
    "import sys\n",
    "sys.path.append('./pyuid3')\n",
    "\n",
    "from sklearn.metrics import accuracy_score, f1_score, precision_score, recall_score\n",
    "from pyuid3.data import Data\n",
    "data = Data.parse_dataframe(test[features+[target]])\n",
    "    \n",
    "predictions = [int(x.get_name()) for x in lux.uid3.predict(data.instances)]\n",
    "print(f'Accuracy : {accuracy_score(predictions, test[target])}')\n"
   ]
  },
  {
   "cell_type": "code",
   "execution_count": null,
   "metadata": {},
   "outputs": [],
   "source": [
    "#have a look at the entire rule-based model that can be executed with https:://heartdroid.re\n",
    "print(lux.to_HMR())"
   ]
  },
  {
   "cell_type": "code",
   "execution_count": null,
   "metadata": {},
   "outputs": [],
   "source": [
    "#prind the uncertain local tree for the given instance\n",
    "import graphviz\n",
    "lux.uid3.tree.save_dot('tree.dot')\n",
    "graphviz.Source.from_file('tree.dot')"
   ]
  },
  {
   "cell_type": "markdown",
   "metadata": {},
   "source": [
    "## In fact, the explanation above is overcomplicated\n",
    "The explanation can be made only using petal_lenght, but due to the greadiness of decision tree classifier, algorithm could not select correct split criterion for the fist place"
   ]
  },
  {
   "cell_type": "code",
   "execution_count": null,
   "metadata": {},
   "outputs": [],
   "source": [
    "plt.figure(figsize=(12,9))\n",
    "graph=sns.scatterplot(x='petal_length',y='petal_width', data=train[['petal_length','petal_width', target]],hue=target,s=100)\n",
    "graph.axhline(1.0,0, linestyle='--')\n",
    "graph.axvline(4.8)\n",
    "plt.scatter(data=pd.DataFrame(iris_instance,columns=features),x='petal_length',y='petal_width', marker='o', s=200)\n",
    "plt.title('Decision boundary created by LUX for particular instance')"
   ]
  },
  {
   "cell_type": "markdown",
   "metadata": {},
   "source": [
    "## Iris example with SHAP values\n",
    "The explanation is more compact, and more consistend with the model, hence, the LUX tree with SHAP support obtains more accuray on the whole dataset, wing smaller than LUX tree without SHAP support"
   ]
  },
  {
   "cell_type": "code",
   "execution_count": null,
   "metadata": {},
   "outputs": [],
   "source": [
    "from lux.lux import LUX\n",
    "from sklearn import datasets\n",
    "from sklearn.model_selection import train_test_split\n",
    "from sklearn import svm\n",
    "import numpy as np\n",
    "import pandas as pd\n",
    "# import some data to play with\n",
    "iris = datasets.load_iris()\n",
    "features = ['sepal_length','sepal_width','petal_length','petal_width']\n",
    "target = 'calss'\n",
    "\n",
    "#create daatframe with columns names as strings (LUX accepts only DataFrames withj string columns names)\n",
    "df_iris = pd.DataFrame(iris.data,columns=features)\n",
    "df_iris[target] = iris.target\n",
    "\n",
    "#train classifier\n",
    "train, test = train_test_split(df_iris, random_state=rs)\n",
    "clf = svm.SVC(probability=True,random_state=rs)\n",
    "clf.fit(train[features].values,train[target])\n",
    "clf.score(test[features].values,test[target])"
   ]
  },
  {
   "cell_type": "code",
   "execution_count": null,
   "metadata": {},
   "outputs": [],
   "source": [
    "def minmaxdf(df):\n",
    "    maxv = df.max()\n",
    "    return df/maxv"
   ]
  },
  {
   "cell_type": "code",
   "execution_count": null,
   "metadata": {},
   "outputs": [],
   "source": [
    "import shap\n",
    "shap.initjs()\n",
    "\n",
    "explainer = shap.KernelExplainer(clf.predict_proba, train[features])\n",
    "shap_values = explainer.shap_values(train[features])"
   ]
  },
  {
   "cell_type": "code",
   "execution_count": null,
   "metadata": {},
   "outputs": [],
   "source": [
    "shap.summary_plot(shap_values, features=None, feature_names=features, max_display=None)"
   ]
  },
  {
   "cell_type": "code",
   "execution_count": null,
   "metadata": {},
   "outputs": [],
   "source": [
    "shap_values=sum([abs(shap) for shap in shap_values])"
   ]
  },
  {
   "cell_type": "code",
   "execution_count": null,
   "metadata": {},
   "outputs": [],
   "source": [
    "scaled_shap =minmaxdf(shap_values)"
   ]
  },
  {
   "cell_type": "code",
   "execution_count": null,
   "metadata": {},
   "outputs": [],
   "source": [
    "#train lux on neighbourhood equal 30% instances\n",
    "lux = LUX(predict_proba = clf.predict_proba, neighborhood_size=int(len(train)*fraction),max_depth=2,  node_size_limit = 3, grow_confidence_threshold = 0 )\n",
    "lux.fit(train[features], train[target], X_importances = scaled_shap,  instance_to_explain=iris_instance,class_names=[0,1,2],discount_importance=True)\n",
    "\n",
    "#see the justification of the instance being classified for a given class\n",
    "lux.justify(np.array(iris_instance))"
   ]
  },
  {
   "cell_type": "code",
   "execution_count": null,
   "metadata": {},
   "outputs": [],
   "source": [
    "#calculate decision tree score over this dataset\n",
    "import sys\n",
    "sys.path.append('./pyuid3')\n",
    "\n",
    "from sklearn.metrics import accuracy_score, f1_score, precision_score, recall_score\n",
    "from pyuid3.data import Data\n",
    "data = Data.parse_dataframe(test[features+[target]])\n",
    "    \n",
    "predictions = [int(x.get_name()) for x in lux.uid3.predict(data.instances)]\n",
    "print(f'Accuracy : {accuracy_score(predictions, test[target])}')\n"
   ]
  },
  {
   "cell_type": "code",
   "execution_count": null,
   "metadata": {},
   "outputs": [],
   "source": [
    "#prind the uncertain local tree for the given instance\n",
    "import graphviz\n",
    "lux.uid3.tree.save_dot('tree.dot')\n",
    "graphviz.Source.from_file('tree.dot')"
   ]
  },
  {
   "cell_type": "code",
   "execution_count": null,
   "metadata": {},
   "outputs": [],
   "source": [
    "plt.figure(figsize=(12,9))\n",
    "graph=sns.scatterplot(x='petal_length',y='petal_width', data=train[['petal_length','petal_width',target]],hue=target, alpha=clf.predict_proba(train[features]).max(axis=1),s=100)\n",
    "graph.axvline(3.0)\n",
    "graph.axvline(4.8)\n",
    "plt.scatter(data=pd.DataFrame(iris_instance,columns=features),x='petal_length',y='petal_width', marker='o', s=200)\n",
    "plt.title('Decision boundary created by LUX for particular instance with SHAP support')"
   ]
  },
  {
   "cell_type": "markdown",
   "metadata": {},
   "source": [
    "# Wine example"
   ]
  },
  {
   "cell_type": "code",
   "execution_count": null,
   "metadata": {},
   "outputs": [],
   "source": [
    "from lux.lux import LUX\n",
    "from sklearn import datasets\n",
    "from sklearn.model_selection import train_test_split\n",
    "from sklearn import svm\n",
    "import numpy as np\n",
    "import pandas as pd\n",
    "# import some data to play with\n",
    "wine = datasets.load_wine()"
   ]
  },
  {
   "cell_type": "code",
   "execution_count": null,
   "metadata": {},
   "outputs": [],
   "source": [
    "features = wine['feature_names']\n",
    "target = 'calss'\n",
    "rs=42\n",
    "\n",
    "#create daatframe with columns names as strings (LUX accepts only DataFrames withj string columns names)\n",
    "df_wine = pd.DataFrame(wine.data,columns=features)\n",
    "df_wine[target] = wine.target\n",
    "\n",
    "#train classifier\n",
    "train, test = train_test_split(df_wine, random_state=rs)\n",
    "clf = RandomForestClassifier(random_state=42)#svm.SVC(probability=True, random_state=rs)\n",
    "clf.fit(train[features],train[target])\n",
    "clf.score(test[features],test[target])"
   ]
  },
  {
   "cell_type": "markdown",
   "metadata": {},
   "source": [
    "## Without predictor uncertainty"
   ]
  },
  {
   "cell_type": "code",
   "execution_count": null,
   "metadata": {},
   "outputs": [],
   "source": [
    "#pick some instance from datasetr\n",
    "iris_instance = train[features].sample(1, random_state=42).values\n",
    "iris_instance\n",
    "\n",
    "#train lux on neighbourhood equal 30% instances\n",
    "lux = LUX(predict_proba = lambda x: np.round(clf.predict_proba(x)), neighborhood_size=int(len(train)*fraction),max_depth=2,  node_size_limit = 1, grow_confidence_threshold = 0 )\n",
    "lux.fit(train[features], train[target], instance_to_explain=iris_instance,class_names=[0,1,2])\n",
    "\n",
    "#see the justification of the instance being classified for a given class\n",
    "lux.justify(np.array(iris_instance))"
   ]
  },
  {
   "cell_type": "code",
   "execution_count": null,
   "metadata": {},
   "outputs": [],
   "source": [
    "#calculate decision tree score over this dataset\n",
    "import sys\n",
    "sys.path.append('./pyuid3')\n",
    "\n",
    "from sklearn.metrics import accuracy_score, f1_score, precision_score, recall_score\n",
    "from pyuid3.data import Data\n",
    "data = Data.parse_dataframe(test[features+[target]])\n",
    "    \n",
    "predictions = [int(x.get_name()) for x in lux.uid3.predict(data.instances)]\n",
    "print(f'Accuracy : {accuracy_score(predictions, test[target])}')\n"
   ]
  },
  {
   "cell_type": "code",
   "execution_count": null,
   "metadata": {},
   "outputs": [],
   "source": [
    "#prind the uncertain local tree for the given instance\n",
    "import graphviz\n",
    "lux.uid3.tree.save_dot('tree.dot')\n",
    "graphviz.Source.from_file('tree.dot')"
   ]
  },
  {
   "cell_type": "markdown",
   "metadata": {},
   "source": [
    "## Without SHAP"
   ]
  },
  {
   "cell_type": "code",
   "execution_count": null,
   "metadata": {},
   "outputs": [],
   "source": [
    "#pick some instance from datasetr\n",
    "iris_instance = train[features].sample(1, random_state=42).values\n",
    "iris_instance\n",
    "\n",
    "#train lux on neighbourhood equal 20 instances\n",
    "lux = LUX(predict_proba = clf.predict_proba, neighborhood_size=int(len(train)*fraction),max_depth=2,  node_size_limit = 1, grow_confidence_threshold = 0 )\n",
    "lux.fit(train[features], train[target], instance_to_explain=iris_instance,class_names=[0,1,2])\n",
    "\n",
    "#see the justification of the instance being classified for a given class\n",
    "lux.justify(np.array(iris_instance))"
   ]
  },
  {
   "cell_type": "code",
   "execution_count": null,
   "metadata": {},
   "outputs": [],
   "source": [
    "#calculate decision tree score over this dataset\n",
    "import sys\n",
    "sys.path.append('./pyuid3')\n",
    "\n",
    "from sklearn.metrics import accuracy_score, f1_score, precision_score, recall_score\n",
    "from pyuid3.data import Data\n",
    "data = Data.parse_dataframe(test[features+[target]])\n",
    "    \n",
    "predictions = [int(x.get_name()) for x in lux.uid3.predict(data.instances)]\n",
    "print(f'Accuracy : {accuracy_score(predictions, test[target])}')\n"
   ]
  },
  {
   "cell_type": "code",
   "execution_count": null,
   "metadata": {},
   "outputs": [],
   "source": [
    "#prind the uncertain local tree for the given instance\n",
    "import graphviz\n",
    "lux.uid3.tree.save_dot('tree.dot')\n",
    "graphviz.Source.from_file('tree.dot')"
   ]
  },
  {
   "cell_type": "code",
   "execution_count": null,
   "metadata": {},
   "outputs": [],
   "source": [
    "plt.figure(figsize=(12,9))\n",
    "graph=sns.scatterplot(x='od280/od315_of_diluted_wines',y='flavanoids', data=train[['od280/od315_of_diluted_wines','flavanoids',target]],hue=target, alpha=clf.predict_proba(train[features]).max(axis=1),s=100)\n",
    "plt.scatter(data=pd.DataFrame(iris_instance,columns=features),x='od280/od315_of_diluted_wines',y='flavanoids', marker='o', s=200)\n",
    "graph.axhline(1.41)\n",
    "graph.axvline(2.26)\n",
    "plt.title('Decision boundary created by LUX for particular instance without SHAP support')"
   ]
  },
  {
   "cell_type": "markdown",
   "metadata": {},
   "source": [
    "## With SHAP"
   ]
  },
  {
   "cell_type": "code",
   "execution_count": null,
   "metadata": {},
   "outputs": [],
   "source": [
    "import shap\n",
    "shap.initjs()\n",
    "\n",
    "explainer = shap.TreeExplainer(clf, train[features])\n",
    "shap_values = explainer.shap_values(train[features],check_additivity=False)"
   ]
  },
  {
   "cell_type": "code",
   "execution_count": null,
   "metadata": {},
   "outputs": [],
   "source": [
    "shap.summary_plot(shap_values, features=None, feature_names=features, max_display=None)"
   ]
  },
  {
   "cell_type": "code",
   "execution_count": null,
   "metadata": {},
   "outputs": [],
   "source": [
    "shap_values=sum([abs(shap) for shap in shap_values])"
   ]
  },
  {
   "cell_type": "code",
   "execution_count": null,
   "metadata": {},
   "outputs": [],
   "source": [
    "scaled_shap =minmaxdf(shap_values)"
   ]
  },
  {
   "cell_type": "code",
   "execution_count": null,
   "metadata": {},
   "outputs": [],
   "source": [
    "#train lux on neighbourhood equal 20% instances\n",
    "lux = LUX(predict_proba = clf.predict_proba, neighborhood_size=int(len(train)*fraction),max_depth=2,  node_size_limit = 3, grow_confidence_threshold = 0 )\n",
    "lux.fit(train[features], train[target], X_importances = scaled_shap,  instance_to_explain=iris_instance,class_names=[0,1,2],discount_importance=True)\n",
    "\n",
    "#see the justification of the instance being classified for a given class\n",
    "lux.justify(np.array(iris_instance))"
   ]
  },
  {
   "cell_type": "code",
   "execution_count": null,
   "metadata": {},
   "outputs": [],
   "source": [
    "#calculate decision tree score over this dataset\n",
    "import sys\n",
    "sys.path.append('./pyuid3')\n",
    "\n",
    "from sklearn.metrics import accuracy_score, f1_score, precision_score, recall_score\n",
    "from pyuid3.data import Data\n",
    "data = Data.parse_dataframe(test[features+[target]])\n",
    "    \n",
    "predictions = [int(x.get_name()) for x in lux.uid3.predict(data.instances)]\n",
    "print(f'Accuracy : {accuracy_score(predictions, test[target])}')\n"
   ]
  },
  {
   "cell_type": "code",
   "execution_count": null,
   "metadata": {},
   "outputs": [],
   "source": [
    "#prind the uncertain local tree for the given instance\n",
    "import graphviz\n",
    "lux.uid3.tree.save_dot('tree.dot')\n",
    "graphviz.Source.from_file('tree.dot')"
   ]
  },
  {
   "cell_type": "code",
   "execution_count": null,
   "metadata": {},
   "outputs": [],
   "source": [
    "plt.figure(figsize=(12,9))\n",
    "graph=sns.scatterplot(x='flavanoids',y='color_intensity', data=train[['flavanoids','color_intensity',target]],hue=target, alpha=clf.predict_proba(train[features]).max(axis=1),s=100)\n",
    "graph.axvline(1.41)\n",
    "graph.axhline(3.85)\n",
    "plt.scatter(data=pd.DataFrame(iris_instance,columns=features),x='flavanoids',y='color_intensity', marker='o', s=200)\n",
    "plt.title('Decision boundary created by LUX for particular instance SHAP support')"
   ]
  },
  {
   "cell_type": "markdown",
   "metadata": {},
   "source": [
    "# Breast cancer"
   ]
  },
  {
   "cell_type": "code",
   "execution_count": null,
   "metadata": {},
   "outputs": [],
   "source": [
    "from lux.lux import LUX\n",
    "from sklearn import datasets\n",
    "from sklearn.model_selection import train_test_split\n",
    "from sklearn import svm\n",
    "import numpy as np\n",
    "import pandas as pd\n",
    "# import some data to play with\n",
    "cancer = datasets.load_breast_cancer()"
   ]
  },
  {
   "cell_type": "code",
   "execution_count": null,
   "metadata": {},
   "outputs": [],
   "source": [
    "features = [f.replace(\" \",\"_\") for f in cancer['feature_names']]\n",
    "target = 'calss'\n",
    "rs=42\n",
    "\n",
    "#create daatframe with columns names as strings (LUX accepts only DataFrames withj string columns names)\n",
    "df_cancer = pd.DataFrame(cancer.data,columns=features)\n",
    "df_cancer[target] = cancer.target\n",
    "\n",
    "#train classifier\n",
    "train, test = train_test_split(df_cancer, random_state=rs)\n",
    "clf = RandomForestClassifier(random_state=42)#svm.SVC(probability=True, random_state=rs)\n",
    "clf.fit(train[features],train[target])\n",
    "clf.score(test[features],test[target])"
   ]
  },
  {
   "cell_type": "markdown",
   "metadata": {},
   "source": [
    "## Without predictor uncertinaty"
   ]
  },
  {
   "cell_type": "code",
   "execution_count": null,
   "metadata": {},
   "outputs": [],
   "source": [
    "#pick some instance from datasetr\n",
    "iris_instance = train[features].sample(1, random_state=42).values\n",
    "iris_instance\n",
    "\n",
    "#train lux on neighbourhood equal 30% instances\n",
    "lux = LUX(predict_proba = lambda x: np.round(clf.predict_proba(x)), neighborhood_size=int(len(train)*fraction),max_depth=2,  node_size_limit = 1, grow_confidence_threshold = 0 )\n",
    "lux.fit(train[features], train[target], instance_to_explain=iris_instance,class_names=[0,1])\n",
    "\n",
    "#see the justification of the instance being classified for a given class\n",
    "lux.justify(np.array(iris_instance))"
   ]
  },
  {
   "cell_type": "code",
   "execution_count": null,
   "metadata": {},
   "outputs": [],
   "source": [
    "#calculate decision tree score over this dataset\n",
    "import sys\n",
    "sys.path.append('./pyuid3')\n",
    "\n",
    "from sklearn.metrics import accuracy_score, f1_score, precision_score, recall_score\n",
    "from pyuid3.data import Data\n",
    "data = Data.parse_dataframe(test[features+[target]])\n",
    "    \n",
    "predictions = [int(x.get_name()) for x in lux.uid3.predict(data.instances)]\n",
    "print(f'Accuracy : {accuracy_score(predictions, test[target])}')\n"
   ]
  },
  {
   "cell_type": "code",
   "execution_count": null,
   "metadata": {},
   "outputs": [],
   "source": [
    "#prind the uncertain local tree for the given instance\n",
    "import graphviz\n",
    "lux.uid3.tree.save_dot('tree.dot')\n",
    "graphviz.Source.from_file('tree.dot')"
   ]
  },
  {
   "cell_type": "markdown",
   "metadata": {},
   "source": [
    "## Without SHAP"
   ]
  },
  {
   "cell_type": "code",
   "execution_count": null,
   "metadata": {},
   "outputs": [],
   "source": [
    "#pick some instance from datasetr\n",
    "iris_instance = train[features].sample(1, random_state=42).values\n",
    "iris_instance\n",
    "\n",
    "#train lux on neighbourhood equal 20% instances\n",
    "lux = LUX(predict_proba = clf.predict_proba, neighborhood_size=int(len(train)*fraction),max_depth=2,  node_size_limit = 1, grow_confidence_threshold = 0 )\n",
    "lux.fit(train[features], train[target], instance_to_explain=iris_instance,class_names=[0,1])\n",
    "\n",
    "#see the justification of the instance being classified for a given class\n",
    "lux.justify(np.array(iris_instance))"
   ]
  },
  {
   "cell_type": "code",
   "execution_count": null,
   "metadata": {},
   "outputs": [],
   "source": [
    "#calculate decision tree score over this dataset\n",
    "import sys\n",
    "sys.path.append('./pyuid3')\n",
    "\n",
    "from sklearn.metrics import accuracy_score, f1_score, precision_score, recall_score\n",
    "from pyuid3.data import Data\n",
    "data = Data.parse_dataframe(test[features+[target]])\n",
    "    \n",
    "predictions = [int(x.get_name()) for x in lux.uid3.predict(data.instances)]\n",
    "print(f'Accuracy : {accuracy_score(predictions, test[target])}')\n"
   ]
  },
  {
   "cell_type": "code",
   "execution_count": null,
   "metadata": {},
   "outputs": [],
   "source": [
    "#prind the uncertain local tree for the given instance\n",
    "import graphviz\n",
    "lux.uid3.tree.save_dot('tree.dot')\n",
    "graphviz.Source.from_file('tree.dot')"
   ]
  },
  {
   "cell_type": "code",
   "execution_count": null,
   "metadata": {},
   "outputs": [],
   "source": [
    "plt.figure(figsize=(12,9))\n",
    "graph=sns.scatterplot(x='worst_perimeter',y='worst_concave_points', data=train[['worst_perimeter','worst_concave_points',target]],hue=target, alpha=clf.predict_proba(train[features]).max(axis=1),s=100)\n",
    "graph.axvline(106.0)\n",
    "graph.axhline(0.14)\n",
    "plt.scatter(data=pd.DataFrame(iris_instance,columns=features),x='worst_perimeter',y='worst_concave_points', marker='o',color='r', s=200)\n",
    "plt.title('Decision boundary created by LUX for particular instance without SHAP support')"
   ]
  },
  {
   "cell_type": "markdown",
   "metadata": {},
   "source": [
    "## With SHAP"
   ]
  },
  {
   "cell_type": "code",
   "execution_count": null,
   "metadata": {},
   "outputs": [],
   "source": [
    "import shap\n",
    "shap.initjs()\n",
    "# this takes a minute or two since we are explaining over 30 thousand samples in a model with over a thousand trees\n",
    "\n",
    "\n",
    "explainer = shap.TreeExplainer(clf, train[features])\n",
    "shap_values = explainer.shap_values(train[features])"
   ]
  },
  {
   "cell_type": "code",
   "execution_count": null,
   "metadata": {},
   "outputs": [],
   "source": [
    "shap.summary_plot(shap_values, features=None, feature_names=features, max_display=None)"
   ]
  },
  {
   "cell_type": "code",
   "execution_count": null,
   "metadata": {},
   "outputs": [],
   "source": [
    "shap_values=sum([abs(shap) for shap in shap_values])"
   ]
  },
  {
   "cell_type": "code",
   "execution_count": null,
   "metadata": {},
   "outputs": [],
   "source": [
    "scaled_shap =minmaxdf(shap_values)"
   ]
  },
  {
   "cell_type": "code",
   "execution_count": null,
   "metadata": {},
   "outputs": [],
   "source": [
    "#train lux on neighbourhood equal 20% instances\n",
    "lux = LUX(predict_proba = clf.predict_proba, neighborhood_size=int(len(train)*fraction),max_depth=2,  node_size_limit = 3, grow_confidence_threshold = 0 )\n",
    "lux.fit(train[features], train[target], X_importances = scaled_shap,  instance_to_explain=iris_instance,class_names=[0,1],discount_importance=True)\n",
    "\n",
    "#see the justification of the instance being classified for a given class\n",
    "lux.justify(np.array(iris_instance))"
   ]
  },
  {
   "cell_type": "code",
   "execution_count": null,
   "metadata": {},
   "outputs": [],
   "source": [
    "#calculate decision tree score over this dataset\n",
    "import sys\n",
    "sys.path.append('./pyuid3')\n",
    "\n",
    "from sklearn.metrics import accuracy_score, f1_score, precision_score, recall_score\n",
    "from pyuid3.data import Data\n",
    "data = Data.parse_dataframe(test[features+[target]])\n",
    "    \n",
    "predictions = [int(x.get_name()) for x in lux.uid3.predict(data.instances)]\n",
    "print(f'Accuracy : {accuracy_score(predictions, test[target])}')\n"
   ]
  },
  {
   "cell_type": "code",
   "execution_count": null,
   "metadata": {},
   "outputs": [],
   "source": [
    "#prind the uncertain local tree for the given instance\n",
    "import graphviz\n",
    "lux.uid3.tree.save_dot('tree.dot')\n",
    "graphviz.Source.from_file('tree.dot')"
   ]
  },
  {
   "cell_type": "code",
   "execution_count": null,
   "metadata": {},
   "outputs": [],
   "source": [
    "plt.figure(figsize=(12,9))\n",
    "graph=sns.scatterplot(x='worst_area',y='worst_concave_points', data=train[['worst_area','worst_concave_points',target]],hue=target, alpha=clf.predict_proba(train[features]).max(axis=1),s=100)\n",
    "graph.axvline(830.9)\n",
    "graph.axhline(0.14)\n",
    "plt.scatter(data=pd.DataFrame(iris_instance,columns=features),x='worst_area',y='worst_concave_points', marker='o',color='r', s=200)\n",
    "plt.title('Decision boundary created by LUX for particular instance with SHAP support')"
   ]
  },
  {
   "cell_type": "code",
   "execution_count": null,
   "metadata": {},
   "outputs": [],
   "source": []
  },
  {
   "cell_type": "code",
   "execution_count": null,
   "metadata": {},
   "outputs": [],
   "source": []
  },
  {
   "cell_type": "code",
   "execution_count": null,
   "metadata": {},
   "outputs": [],
   "source": []
  },
  {
   "cell_type": "code",
   "execution_count": null,
   "metadata": {},
   "outputs": [],
   "source": []
  },
  {
   "cell_type": "code",
   "execution_count": null,
   "metadata": {},
   "outputs": [],
   "source": []
  },
  {
   "cell_type": "code",
   "execution_count": null,
   "metadata": {},
   "outputs": [],
   "source": []
  },
  {
   "cell_type": "code",
   "execution_count": null,
   "metadata": {},
   "outputs": [],
   "source": []
  },
  {
   "cell_type": "code",
   "execution_count": null,
   "metadata": {},
   "outputs": [],
   "source": []
  },
  {
   "cell_type": "code",
   "execution_count": null,
   "metadata": {},
   "outputs": [],
   "source": []
  }
 ],
 "metadata": {
  "kernelspec": {
   "display_name": "Python 3 (ipykernel)",
   "language": "python",
   "name": "python3"
  },
  "language_info": {
   "codemirror_mode": {
    "name": "ipython",
    "version": 3
   },
   "file_extension": ".py",
   "mimetype": "text/x-python",
   "name": "python",
   "nbconvert_exporter": "python",
   "pygments_lexer": "ipython3",
   "version": "3.8.13"
  }
 },
 "nbformat": 4,
 "nbformat_minor": 4
}
